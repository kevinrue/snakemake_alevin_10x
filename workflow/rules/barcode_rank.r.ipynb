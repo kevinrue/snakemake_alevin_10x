{
 "cells": [
  {
   "cell_type": "code",
   "execution_count": null,
   "metadata": {},
   "outputs": [],
   "source": [
    "library(tidyverse)\n",
    "library(tximport)\n",
    "library(DelayedMatrixStats)\n",
    "library(cowplot)\n",
    "library(sessioninfo)"
   ]
  },
  {
   "cell_type": "code",
   "execution_count": null,
   "metadata": {},
   "outputs": [],
   "source": [
    "quants_mat_file <- snakemake@input[[\"quants\"]]\n",
    "plot_file <- snakemake@output[[1]]"
   ]
  },
  {
   "cell_type": "code",
   "execution_count": null,
   "metadata": {},
   "outputs": [],
   "source": [
    "txi <- tximport::tximport(files = quants_mat_file, type = \"alevin\")\n",
    "str(txi)"
   ]
  },
  {
   "cell_type": "code",
   "execution_count": null,
   "metadata": {},
   "outputs": [],
   "source": [
    "plot <- tibble(\n",
    "    barcode = colnames(txi$counts),\n",
    "    total = DelayedMatrixStats::colSums2(txi$counts)\n",
    ") %>%\n",
    "    arrange(desc(total)) %>%\n",
    "    mutate(rank = row_number()) %>%\n",
    "    ggplot() +\n",
    "    geom_point(aes(rank, total)) +\n",
    "    scale_y_log10() + scale_x_log10() +\n",
    "    theme_cowplot()\n",
    "ggsave(filename = plot_file, plot = plot)"
   ]
  },
  {
   "cell_type": "code",
   "execution_count": null,
   "metadata": {},
   "outputs": [],
   "source": [
    "sessioninfo::session_info()"
   ]
  }
 ],
 "metadata": {
  "kernelspec": {
   "display_name": "R",
   "language": "R",
   "name": "ir"
  },
  "language_info": {
   "codemirror_mode": "r",
   "file_extension": ".r",
   "mimetype": "text/x-r-source",
   "name": "R",
   "pygments_lexer": "r",
   "version": "4.0.1"
  }
 },
 "nbformat": 4,
 "nbformat_minor": 4
}
